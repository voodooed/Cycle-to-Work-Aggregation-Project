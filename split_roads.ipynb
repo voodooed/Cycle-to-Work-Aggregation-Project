{
 "cells": [
  {
   "cell_type": "code",
   "execution_count": 1,
   "metadata": {},
   "outputs": [],
   "source": [
    "import psycopg2\n",
    "import shapely.wkt\n",
    "import shapely"
   ]
  },
  {
   "cell_type": "code",
   "execution_count": 2,
   "metadata": {},
   "outputs": [],
   "source": [
    "connection = psycopg2.connect(database=\"gps_heatmap\",\n",
    " user=\"postgres\",password=\"password\")\n",
    "cursor = connection.cursor()\n",
    "cursor.execute(\"DELETE FROM road_segments\")"
   ]
  },
  {
   "cell_type": "code",
   "execution_count": 3,
   "metadata": {},
   "outputs": [],
   "source": [
    "all_road_ids = []\n",
    "cursor.execute(\"SELECT id FROM roads\")\n",
    "for row in cursor:\n",
    "    all_road_ids.append(row[0])"
   ]
  },
  {
   "cell_type": "code",
   "execution_count": 4,
   "metadata": {},
   "outputs": [],
   "source": [
    "for road_id in all_road_ids:\n",
    "    \n",
    "    cursor.execute(\"SELECT name,ST_AsText(centerline) \" +\n",
    "    \"FROM roads WHERE id=%s\", (road_id,))\n",
    "    name,wkt = cursor.fetchone()\n",
    "    cur_road = shapely.wkt.loads(wkt)\n",
    "    connection.commit()\n",
    "    \n",
    "    crossroads = []\n",
    "    cursor.execute(\"SELECT ST_AsText(centerline) FROM ROADS \" +\n",
    "     \"WHERE ST_Touches(roads.centerline, \" +\n",
    "     \"ST_GeomFromText(%s)) OR ST_Crosses(\" +\n",
    "     \"roads.centerline, ST_GeomFromText(%s))\",\n",
    "     (wkt, wkt))\n",
    "    for row in cursor:\n",
    "        crossroad = shapely.wkt.loads(row[0])\n",
    "        crossroads.append(crossroad)\n",
    "    for crossroad in crossroads:\n",
    "        cur_road = cur_road.difference(crossroad)\n",
    "    segments = []\n",
    "    if cur_road.geom_type == \"MultiLineString\":\n",
    "        for segment in cur_road.geoms:\n",
    "            segments.append(segment)\n",
    "    elif cur_road.geom_type == \"LineString\":\n",
    "        segments.append(cur_road)\n",
    "        \n",
    "    for segment in segments:\n",
    "        centerline_wkt = shapely.wkt.dumps(segment)\n",
    "        cursor.execute(\"INSERT INTO road_segments (name, \" +\n",
    "        \"centerline, tally) VALUES (%s, \" +\n",
    "        \"ST_GeomFromText(%s), %s)\",\n",
    "        (name, centerline_wkt, 0))\n",
    "    "
   ]
  },
  {
   "cell_type": "code",
   "execution_count": 5,
   "metadata": {},
   "outputs": [],
   "source": [
    "connection.commit()"
   ]
  }
 ],
 "metadata": {
  "kernelspec": {
   "display_name": "Python 3.7.1 64-bit",
   "language": "python",
   "name": "python37164bit1fe9323a61b746e79995ce3da87c2b5f"
  },
  "language_info": {
   "codemirror_mode": {
    "name": "ipython",
    "version": 3
   },
   "file_extension": ".py",
   "mimetype": "text/x-python",
   "name": "python",
   "nbconvert_exporter": "python",
   "pygments_lexer": "ipython3",
   "version": "3.7.1"
  }
 },
 "nbformat": 4,
 "nbformat_minor": 4
}
