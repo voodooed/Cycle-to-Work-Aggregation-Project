{
 "cells": [
  {
   "cell_type": "code",
   "execution_count": 1,
   "metadata": {},
   "outputs": [],
   "source": [
    "import psycopg2"
   ]
  },
  {
   "cell_type": "markdown",
   "metadata": {},
   "source": [
    "### Initializing the database"
   ]
  },
  {
   "cell_type": "code",
   "execution_count": 2,
   "metadata": {},
   "outputs": [],
   "source": [
    "connection = psycopg2.connect(database=\"gps_heatmap\",\n",
    " user=\"postgres\",password='password')\n",
    "cursor = connection.cursor()\n",
    "cursor.execute(\"DROP TABLE IF EXISTS roads\")\n",
    "cursor.execute(\"CREATE TABLE roads (\" +\n",
    " \"id SERIAL PRIMARY KEY,\" +\n",
    " \"name VARCHAR,\" +\n",
    " \"centerline GEOMETRY)\")\n",
    "cursor.execute(\"CREATE INDEX ON roads USING GIST(centerline)\")\n",
    "connection.commit()"
   ]
  },
  {
   "cell_type": "code",
   "execution_count": 3,
   "metadata": {},
   "outputs": [],
   "source": [
    "connection = psycopg2.connect(database=\"gps_heatmap\",\n",
    "                              user=\"postgres\",password='password')\n",
    "cursor = connection.cursor()\n",
    "cursor.execute(\"DROP TABLE IF EXISTS road_segments\")\n",
    "cursor.execute(\"CREATE TABLE road_segments (\" +\n",
    " \"id SERIAL PRIMARY KEY,\" +\n",
    " \"name VARCHAR,\" +\n",
    " \"centerline GEOMETRY,\" +\n",
    " \"tally INTEGER)\")\n",
    "cursor.execute(\"CREATE INDEX ON road_segments USING GIST(centerline)\")\n",
    "connection.commit()"
   ]
  },
  {
   "cell_type": "code",
   "execution_count": 7,
   "metadata": {},
   "outputs": [],
   "source": [
    "connection = psycopg2.connect(database=\"gps_heatmap\",\n",
    "                              user=\"postgres\",password='password')\n",
    "cursor = connection.cursor()\n",
    "\n",
    "cursor.execute(\"DROP TABLE IF EXISTS directed_segments\")\n",
    "cursor.execute(\"CREATE TABLE directed_segments (\" +\n",
    " \"id SERIAL PRIMARY KEY,\" +\n",
    " \"road_segment_id INTEGER,\" +\n",
    " \"centerline GEOMETRY)\")\n",
    "\n",
    "cursor.execute(\"CREATE INDEX ON directed_segments USING GIST(centerline)\")\n",
    "cursor.execute(\"DROP TABLE IF EXISTS endpoints\")\n",
    "cursor.execute(\"CREATE TABLE endpoints (\" +\n",
    " \"id SERIAL PRIMARY KEY,\" +\n",
    " \"endpoint GEOMETRY)\")\n",
    "cursor.execute(\"CREATE INDEX ON endpoints USING GIST(endpoint)\")\n",
    "\n",
    "cursor.execute(\"DROP TABLE IF EXISTS endpoint_segments\")\n",
    "cursor.execute(\"CREATE TABLE endpoint_segments (\" +\n",
    " \"id SERIAL PRIMARY KEY,\" +\n",
    " \"directed_segment_id INTEGER,\" + \"endpoint_id INTEGER)\")\n",
    "cursor.execute(\"CREATE INDEX ON endpoint_segments(directed_segment_id)\")\n",
    "cursor.execute(\"CREATE INDEX ON endpoint_segments(endpoint_id)\")\n",
    "\n",
    "connection.commit()"
   ]
  }
 ],
 "metadata": {
  "kernelspec": {
   "display_name": "Python 3.7.1 64-bit",
   "language": "python",
   "name": "python37164bit1fe9323a61b746e79995ce3da87c2b5f"
  },
  "language_info": {
   "codemirror_mode": {
    "name": "ipython",
    "version": 3
   },
   "file_extension": ".py",
   "mimetype": "text/x-python",
   "name": "python",
   "nbconvert_exporter": "python",
   "pygments_lexer": "ipython3",
   "version": "3.7.1"
  }
 },
 "nbformat": 4,
 "nbformat_minor": 4
}
