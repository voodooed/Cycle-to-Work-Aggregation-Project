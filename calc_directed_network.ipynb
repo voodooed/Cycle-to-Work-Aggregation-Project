{
 "cells": [
  {
   "cell_type": "code",
   "execution_count": 1,
   "metadata": {},
   "outputs": [],
   "source": [
    "import networkx\n",
    "import psycopg2\n",
    "import shapely.wkt\n",
    "import shapely.geometry"
   ]
  },
  {
   "cell_type": "code",
   "execution_count": 2,
   "metadata": {
    "scrolled": true
   },
   "outputs": [],
   "source": [
    "connection = psycopg2.connect(database=\"gps_heatmap\",\n",
    "user=\"postgres\",password=\"password\")\n",
    "cursor = connection.cursor()\n",
    "\n",
    "network = networkx.Graph()\n",
    "cursor.execute(\"SELECT id,ST_AsText(centerline) FROM road_segments\")\n",
    "for row in cursor:\n",
    "    road_segment_id,wkt = row\n",
    "    linestring = shapely.wkt.loads(wkt)\n",
    "    first_pt = linestring.coords[0]\n",
    "    last_pt = linestring.coords[-1]\n",
    "    network.add_edge(first_pt, last_pt)\n",
    "    network[first_pt][last_pt]['road_segment_id'] = road_segment_id\n",
    "\n",
    "    "
   ]
  },
  {
   "cell_type": "code",
   "execution_count": 3,
   "metadata": {},
   "outputs": [],
   "source": [
    "sub_graphs = list(networkx.connected_component_subgraphs(network))\n",
    "largest = sub_graphs[0]\n",
    "\n",
    "cursor.execute(\"DELETE FROM endpoints\")\n",
    "endpoint_ids = {}\n",
    "for node in largest.nodes():\n",
    "    point = shapely.geometry.Point(node)\n",
    "    wkt = shapely.wkt.dumps(point)\n",
    "    cursor.execute(\"INSERT INTO endpoints (endpoint) \" +\n",
    "     \"VALUES (ST_GeomFromText(%s)) RETURNING id\",\n",
    "     (wkt,))\n",
    "    endpoint_id = cursor.fetchone()[0]\n",
    "    endpoint_ids[node] = endpoint_id"
   ]
  },
  {
   "cell_type": "code",
   "execution_count": 4,
   "metadata": {},
   "outputs": [],
   "source": [
    "cursor.execute(\"DELETE FROM directed_segments\")\n",
    "cursor.execute(\"DELETE FROM endpoint_segments\")\n",
    "for node1,node2 in largest.edges():\n",
    "    \n",
    "    endpoint_id_1 = endpoint_ids[node1]\n",
    "    endpoint_id_2 = endpoint_ids[node2]\n",
    "    road_segment_id = largest.get_edge_data(node1,node2)['road_segment_id']\n",
    "    cursor.execute(\"SELECT ST_AsText(centerline) \" +\n",
    "    \"FROM road_segments WHERE id=%s\",\n",
    "    (road_segment_id,))\n",
    "    wkt = cursor.fetchone()[0]\n",
    "    linestring = shapely.wkt.loads(wkt)\n",
    "    reversed_coords = list(reversed(linestring.coords))\n",
    "    if node1 == linestring.coords[0]:\n",
    "        forward_linestring = linestring\n",
    "        reverse_linestring = shapely.geometry.LineString(reversed_coords)\n",
    "    else:\n",
    "        reverse_linestring = linestring\n",
    "        forward_linestring = shapely.geometry.LineString(reversed_coords)\n",
    "    cursor.execute(\"INSERT INTO directed_segments \" +\n",
    "     \"(road_segment_id,centerline) VALUES \" +\n",
    "     \"(%s, ST_GeomFromText(%s)) RETURNING id\",\n",
    "     (road_segment_id, forward_linestring.wkt))\n",
    "    forward_segment_id = cursor.fetchone()[0]\n",
    "    cursor.execute(\"INSERT INTO directed_segments \" +\n",
    "    \"(road_segment_id,centerline) VALUES \" + \"(%s, ST_GeomFromText(%s)) RETURNING id\",\n",
    "    (road_segment_id, reverse_linestring.wkt))\n",
    "    reverse_segment_id = cursor.fetchone()[0]\n",
    "    cursor.execute(\"INSERT INTO endpoint_segments \" +\n",
    "    \"(directed_segment_id, endpoint_id) \" +\n",
    "    \"VALUES (%s, %s)\",\n",
    "    (forward_segment_id, endpoint_id_1))\n",
    "    cursor.execute(\"INSERT INTO endpoint_segments \" +\n",
    "    \"(directed_segment_id, endpoint_id) \" +\n",
    "    \"VALUES (%s, %s)\",(reverse_segment_id, endpoint_id_2))"
   ]
  },
  {
   "cell_type": "code",
   "execution_count": 6,
   "metadata": {},
   "outputs": [],
   "source": [
    "connection.commit()"
   ]
  },
  {
   "cell_type": "code",
   "execution_count": null,
   "metadata": {},
   "outputs": [],
   "source": []
  }
 ],
 "metadata": {
  "kernelspec": {
   "display_name": "Python 3.7.1 64-bit",
   "language": "python",
   "name": "python37164bit1fe9323a61b746e79995ce3da87c2b5f"
  },
  "language_info": {
   "codemirror_mode": {
    "name": "ipython",
    "version": 3
   },
   "file_extension": ".py",
   "mimetype": "text/x-python",
   "name": "python",
   "nbconvert_exporter": "python",
   "pygments_lexer": "ipython3",
   "version": "3.7.1"
  }
 },
 "nbformat": 4,
 "nbformat_minor": 4
}
