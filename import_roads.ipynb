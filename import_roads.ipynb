{
 "cells": [
  {
   "cell_type": "markdown",
   "metadata": {},
   "source": [
    "### Importing the road data"
   ]
  },
  {
   "cell_type": "code",
   "execution_count": 23,
   "metadata": {},
   "outputs": [],
   "source": [
    "import psycopg2\n",
    "from osgeo import ogr\n",
    "connection = psycopg2.connect(database=\"gps_heatmap\",\n",
    " user=\"postgres\",password=\"password\")\n",
    "cursor = connection.cursor()\n",
    "cursor.execute(\"DELETE FROM roads\")"
   ]
  },
  {
   "cell_type": "code",
   "execution_count": 24,
   "metadata": {},
   "outputs": [],
   "source": [
    "ds_fname = r'E:\\Circle\\2. Urban Mobility\\Phase 2-Heat Map\\gps-heatmap\\roads\\roads.shp'\n",
    "shapefile = ogr.Open(ds_fname)\n",
    "layer = shapefile.GetLayer(0)"
   ]
  },
  {
   "cell_type": "code",
   "execution_count": 25,
   "metadata": {},
   "outputs": [],
   "source": [
    "for i in range(layer.GetFeatureCount()):\n",
    "    feature = layer.GetFeature(i)\n",
    "    geometry = feature.GetGeometryRef()\n",
    "    \n",
    "    if feature.GetField(\"name\") != None:\n",
    "        name = feature.GetField(\"name\")\n",
    "    else:\n",
    "        name = None\n",
    "        \n",
    "    centerline_wkt = geometry.ExportToWkt()\n",
    "    cursor.execute(\"INSERT INTO roads (name, centerline) \" +\n",
    " \"VALUES (%s, ST_GeomFromText(%s))\",\n",
    " (name, centerline_wkt))\n",
    "        "
   ]
  },
  {
   "cell_type": "code",
   "execution_count": 26,
   "metadata": {},
   "outputs": [],
   "source": [
    "connection.commit()"
   ]
  }
 ],
 "metadata": {
  "kernelspec": {
   "display_name": "Python 3.7.1 64-bit",
   "language": "python",
   "name": "python37164bit1fe9323a61b746e79995ce3da87c2b5f"
  },
  "language_info": {
   "codemirror_mode": {
    "name": "ipython",
    "version": 3
   },
   "file_extension": ".py",
   "mimetype": "text/x-python",
   "name": "python",
   "nbconvert_exporter": "python",
   "pygments_lexer": "ipython3",
   "version": "3.7.1"
  }
 },
 "nbformat": 4,
 "nbformat_minor": 4
}
